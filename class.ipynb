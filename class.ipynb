{
 "cells": [
  {
   "cell_type": "code",
   "execution_count": 1,
   "metadata": {},
   "outputs": [
    {
     "name": "stdout",
     "output_type": "stream",
     "text": [
      "[1, 3, 4, 5, 6, 9]\n",
      "2\n",
      "7\n",
      "8\n"
     ]
    }
   ],
   "source": [
    "l=[int(i)for i in input().split()]\n",
    "for i in range (len(l)):\n",
    "    for j in range(i+1,len(l)):\n",
    "        if l[i]>l[j]:\n",
    "            l[i],l[j]=l[j],l[i]\n",
    "print(l)\n",
    "for i in range(l[0],l[-1]):\n",
    "    if i not in l:\n",
    "        print(i)"
   ]
  },
  {
   "cell_type": "code",
   "execution_count": 2,
   "metadata": {},
   "outputs": [
    {
     "name": "stdout",
     "output_type": "stream",
     "text": [
      "[2, 1, 4, 3, 5]\n"
     ]
    }
   ],
   "source": [
    "l=[int(i)for i in input().split()]\n",
    "for i in range (len(l)):\n",
    "    for j in range(i+1,len(l)):\n",
    "        if l[i]>l[j]:\n",
    "            l[i],l[j]=l[j],l[i]\n",
    "for i in range(0,len(l)-1):\n",
    "        if i%2==0:\n",
    "            l[i],l[i+1]=l[i+1],l[i]\n",
    "print(l)"
   ]
  },
  {
   "cell_type": "code",
   "execution_count": 3,
   "metadata": {},
   "outputs": [
    {
     "name": "stdout",
     "output_type": "stream",
     "text": [
      "3\n"
     ]
    }
   ],
   "source": [
    "def fact(a):\n",
    "    if a==1:\n",
    "        return 1\n",
    "    else:\n",
    "        \n",
    "        return a*fact(a-1)\n",
    "\n",
    "n=int(input())\n",
    "i=int(input())\n",
    "x=int(input())\n",
    "print(fact(n-i)//fact(x))"
   ]
  },
  {
   "cell_type": "code",
   "execution_count": 4,
   "metadata": {},
   "outputs": [
    {
     "name": "stdout",
     "output_type": "stream",
     "text": [
      "1\n",
      "01\n",
      "101\n",
      "0101\n",
      "10101\n",
      "010101\n"
     ]
    }
   ],
   "source": [
    "n=int(input())\n",
    "s=\"1\"\n",
    "for i in range(n):\n",
    "    print(s)\n",
    "    if i%2==0:\n",
    "        s=\"0\"+s\n",
    "    else:\n",
    "        s=\"1\"+s"
   ]
  },
  {
   "cell_type": "code",
   "execution_count": null,
   "metadata": {},
   "outputs": [],
   "source": []
  }
 ],
 "metadata": {
  "kernelspec": {
   "display_name": "Python 3",
   "language": "python",
   "name": "python3"
  },
  "language_info": {
   "codemirror_mode": {
    "name": "ipython",
    "version": 3
   },
   "file_extension": ".py",
   "mimetype": "text/x-python",
   "name": "python",
   "nbconvert_exporter": "python",
   "pygments_lexer": "ipython3",
   "version": "3.11.2"
  }
 },
 "nbformat": 4,
 "nbformat_minor": 2
}
